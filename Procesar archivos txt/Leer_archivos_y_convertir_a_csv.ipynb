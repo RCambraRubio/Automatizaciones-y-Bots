{
 "cells": [
  {
   "cell_type": "markdown",
   "metadata": {},
   "source": [
    "* Importar librerias"
   ]
  },
  {
   "cell_type": "code",
   "execution_count": 1,
   "metadata": {},
   "outputs": [],
   "source": [
    "from os import scandir\n",
    "import pandas as pd"
   ]
  },
  {
   "cell_type": "markdown",
   "metadata": {},
   "source": [
    "* Función que devuelve todos los archivos de una ruta"
   ]
  },
  {
   "cell_type": "code",
   "execution_count": 2,
   "metadata": {},
   "outputs": [],
   "source": [
    "def nombre_archivos(path): \n",
    "    nombres=[]\n",
    "    for obj in scandir(path):\n",
    "        if obj.is_file():\n",
    "            nombres.append(obj.name)\n",
    "    return nombres"
   ]
  },
  {
   "cell_type": "markdown",
   "metadata": {},
   "source": [
    "* Variables necesiarias"
   ]
  },
  {
   "cell_type": "code",
   "execution_count": 3,
   "metadata": {},
   "outputs": [],
   "source": [
    "ruta = \"datos\"\n",
    "nombres_col = [\"usuario\", \"Hemoglobina (g/dl)\", \"Leucocitos (x10^3/µl)\", \"Plaquetas (x10^3/µl)\"]"
   ]
  },
  {
   "cell_type": "markdown",
   "metadata": {},
   "source": [
    "* Leer uno a uno, linea a linea, cada archivo y guardarse información"
   ]
  },
  {
   "cell_type": "code",
   "execution_count": 4,
   "metadata": {},
   "outputs": [],
   "source": [
    "lista_archivos = nombre_archivos(ruta)\n",
    "num_columnas = len(nombres_col)\n",
    "\n",
    "resumen = pd.DataFrame(columns=nombres_col) # Crear dataframe\n",
    "\n",
    "for nombre_archivo in lista_archivos:\n",
    "    archivo = open(ruta + \"/\" + nombre_archivo, 'r') # Leer cada archivo\n",
    "\n",
    "    nuevo_registro = pd.Series(data = [0]*num_columnas, index = nombres_col) # Crear serie para insertar en él los valores del nuevo registro\n",
    "    nuevo_registro[\"usuario\"] = nombre_archivo.split(\"Usuario\")[1][0:-4] \n",
    "\n",
    "    for linea in archivo.readlines(): # Leer cada linea\n",
    "        if(linea.find(\"Hemoglobina:\")>=0):\n",
    "            nuevo_registro[\"Hemoglobina (g/dl)\"] = linea.split(\":\")[1].split(\"(\")[0]\n",
    "        \n",
    "        if(linea.find(\"Leucocitos:\")>=0):\n",
    "            nuevo_registro[\"Leucocitos (x10^3/µl)\"] = linea.split(\":\")[1].split(\"(\")[0]\n",
    "\n",
    "        if(linea.find(\"Plaquetas:\")>=0):\n",
    "            nuevo_registro[\"Plaquetas (x10^3/µl)\"] = linea.split(\":\")[1].split(\"(\")[0]\n",
    "\n",
    "    nuevo_registro = nuevo_registro.apply(lambda x: str(x).replace(\".\", \",\")) # Reemplazar puntos por comas \n",
    "\n",
    "    resumen = pd.concat([resumen, nuevo_registro.to_frame().T], ignore_index=True) # Insertar el nuevo registro al dataframe"
   ]
  },
  {
   "cell_type": "markdown",
   "metadata": {},
   "source": [
    "* El resultado es el siguiente"
   ]
  },
  {
   "cell_type": "code",
   "execution_count": 5,
   "metadata": {},
   "outputs": [
    {
     "data": {
      "text/html": [
       "<div>\n",
       "<style scoped>\n",
       "    .dataframe tbody tr th:only-of-type {\n",
       "        vertical-align: middle;\n",
       "    }\n",
       "\n",
       "    .dataframe tbody tr th {\n",
       "        vertical-align: top;\n",
       "    }\n",
       "\n",
       "    .dataframe thead th {\n",
       "        text-align: right;\n",
       "    }\n",
       "</style>\n",
       "<table border=\"1\" class=\"dataframe\">\n",
       "  <thead>\n",
       "    <tr style=\"text-align: right;\">\n",
       "      <th></th>\n",
       "      <th>usuario</th>\n",
       "      <th>Hemoglobina (g/dl)</th>\n",
       "      <th>Leucocitos (x10^3/µl)</th>\n",
       "      <th>Plaquetas (x10^3/µl)</th>\n",
       "    </tr>\n",
       "  </thead>\n",
       "  <tbody>\n",
       "    <tr>\n",
       "      <th>0</th>\n",
       "      <td>1</td>\n",
       "      <td>13,8</td>\n",
       "      <td>4,0</td>\n",
       "      <td>160</td>\n",
       "    </tr>\n",
       "    <tr>\n",
       "      <th>1</th>\n",
       "      <td>2</td>\n",
       "      <td>16,4</td>\n",
       "      <td>9,4</td>\n",
       "      <td>400</td>\n",
       "    </tr>\n",
       "    <tr>\n",
       "      <th>2</th>\n",
       "      <td>3</td>\n",
       "      <td>14,7</td>\n",
       "      <td>7,3</td>\n",
       "      <td>240</td>\n",
       "    </tr>\n",
       "    <tr>\n",
       "      <th>3</th>\n",
       "      <td>4</td>\n",
       "      <td>14,3</td>\n",
       "      <td>8,2</td>\n",
       "      <td>280</td>\n",
       "    </tr>\n",
       "    <tr>\n",
       "      <th>4</th>\n",
       "      <td>5</td>\n",
       "      <td>14,9</td>\n",
       "      <td>5,9</td>\n",
       "      <td>229</td>\n",
       "    </tr>\n",
       "    <tr>\n",
       "      <th>5</th>\n",
       "      <td>6</td>\n",
       "      <td>15,2</td>\n",
       "      <td>7,6</td>\n",
       "      <td>260</td>\n",
       "    </tr>\n",
       "    <tr>\n",
       "      <th>6</th>\n",
       "      <td>7</td>\n",
       "      <td>16,2</td>\n",
       "      <td>9,2</td>\n",
       "      <td>400</td>\n",
       "    </tr>\n",
       "    <tr>\n",
       "      <th>7</th>\n",
       "      <td>8</td>\n",
       "      <td>13,2</td>\n",
       "      <td>8,9</td>\n",
       "      <td>401</td>\n",
       "    </tr>\n",
       "    <tr>\n",
       "      <th>8</th>\n",
       "      <td>9</td>\n",
       "      <td>14,7</td>\n",
       "      <td>8,5</td>\n",
       "      <td>395</td>\n",
       "    </tr>\n",
       "    <tr>\n",
       "      <th>9</th>\n",
       "      <td>10</td>\n",
       "      <td>15,3</td>\n",
       "      <td>7,1</td>\n",
       "      <td>300</td>\n",
       "    </tr>\n",
       "  </tbody>\n",
       "</table>\n",
       "</div>"
      ],
      "text/plain": [
       "  usuario Hemoglobina (g/dl) Leucocitos (x10^3/µl) Plaquetas (x10^3/µl)\n",
       "0       1              13,8                   4,0                  160 \n",
       "1       2              16,4                   9,4                  400 \n",
       "2       3              14,7                   7,3                  240 \n",
       "3       4              14,3                   8,2                  280 \n",
       "4       5              14,9                   5,9                  229 \n",
       "5       6              15,2                   7,6                  260 \n",
       "6       7              16,2                   9,2                  400 \n",
       "7       8              13,2                   8,9                  401 \n",
       "8       9              14,7                   8,5                  395 \n",
       "9      10              15,3                   7,1                  300 "
      ]
     },
     "execution_count": 5,
     "metadata": {},
     "output_type": "execute_result"
    }
   ],
   "source": [
    "resumen"
   ]
  },
  {
   "cell_type": "markdown",
   "metadata": {},
   "source": [
    "* Guardar el resultado en un CSV"
   ]
  },
  {
   "cell_type": "code",
   "execution_count": 6,
   "metadata": {},
   "outputs": [],
   "source": [
    "resumen.to_csv('resumen.csv', index=False)"
   ]
  }
 ],
 "metadata": {
  "kernelspec": {
   "display_name": "Python 3.9.13 64-bit (microsoft store)",
   "language": "python",
   "name": "python3"
  },
  "language_info": {
   "codemirror_mode": {
    "name": "ipython",
    "version": 3
   },
   "file_extension": ".py",
   "mimetype": "text/x-python",
   "name": "python",
   "nbconvert_exporter": "python",
   "pygments_lexer": "ipython3",
   "version": "3.9.13"
  },
  "orig_nbformat": 4,
  "vscode": {
   "interpreter": {
    "hash": "ea04e4b882492e335c0d840a88a891c51e1a9135cf609ceb190e8169e442c23c"
   }
  }
 },
 "nbformat": 4,
 "nbformat_minor": 2
}
